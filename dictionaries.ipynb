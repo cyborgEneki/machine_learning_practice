{
 "cells": [
  {
   "cell_type": "markdown",
   "metadata": {},
   "source": [
    "### For a reminder, shortcut for running cell is: <span style=\"color:red\">**Shift + Enter**</span>."
   ]
  },
  {
   "cell_type": "markdown",
   "metadata": {},
   "source": [
    "# Data Structure\n",
    "## Dictionary"
   ]
  },
  {
   "cell_type": "code",
   "execution_count": 2,
   "metadata": {},
   "outputs": [
    {
     "data": {
      "text/plain": [
       "'potato'"
      ]
     },
     "execution_count": 2,
     "metadata": {},
     "output_type": "execute_result"
    }
   ],
   "source": [
    "#Simple example of dictionaries\n",
    "#Suppose we manage a shamba, and the shamba has different areas that contain \n",
    "#different plants. We could have a dictionary that stores this information for us,\n",
    "#with the area numbers as keys and the plants a values.\n",
    "# We use curly brackets for dictionaries. square brackets [] for lists, parentheses () for tuples.\n",
    "shamba = {\n",
    "    'area_1': 'maize',\n",
    "    'area_2': 'potato',\n",
    "    'area_3': 'bean',\n",
    "    'area_4': 'sukuma',\n",
    "    }\n",
    "\n",
    "shamba['area_2']"
   ]
  },
  {
   "cell_type": "code",
   "execution_count": 3,
   "metadata": {},
   "outputs": [
    {
     "ename": "KeyError",
     "evalue": "'potato'",
     "output_type": "error",
     "traceback": [
      "\u001b[1;31m---------------------------------------------------------------------------\u001b[0m",
      "\u001b[1;31mKeyError\u001b[0m                                  Traceback (most recent call last)",
      "Cell \u001b[1;32mIn[3], line 5\u001b[0m\n\u001b[0;32m      1\u001b[0m \u001b[38;5;66;03m#Accessing a dictionary always searches over the keys and returns the values\u001b[39;00m\n\u001b[0;32m      2\u001b[0m \u001b[38;5;66;03m#of the corresponding key. It doesn't work the other way around.\u001b[39;00m\n\u001b[0;32m      3\u001b[0m \u001b[38;5;66;03m#We can't use indexing to search for potato and find out their area.\u001b[39;00m\n\u001b[0;32m      4\u001b[0m \u001b[38;5;66;03m#We will get a key error.\u001b[39;00m\n\u001b[1;32m----> 5\u001b[0m shamba[\u001b[38;5;124m'\u001b[39m\u001b[38;5;124mpotato\u001b[39m\u001b[38;5;124m'\u001b[39m]\n",
      "\u001b[1;31mKeyError\u001b[0m: 'potato'"
     ]
    }
   ],
   "source": [
    "#Accessing a dictionary always searches over the keys and returns the values\n",
    "#of the corresponding key. It doesn't work the other way around.\n",
    "#We can't use indexing to search for potato and find out their area.\n",
    "#We will get a key error.\n",
    "shamba['potato']"
   ]
  },
  {
   "cell_type": "code",
   "execution_count": 4,
   "metadata": {},
   "outputs": [
    {
     "data": {
      "text/plain": [
       "'potato'"
      ]
     },
     "execution_count": 4,
     "metadata": {},
     "output_type": "execute_result"
    }
   ],
   "source": [
    "#Dictionaries can also be created with dict() function.\n",
    "shamba = dict(\n",
    "    area_1='maize',\n",
    "    area_2='potato',\n",
    "    area_3='bean',\n",
    "    area_4='sukuma',\n",
    "    )\n",
    "\n",
    "shamba['area_2']"
   ]
  },
  {
   "cell_type": "code",
   "execution_count": 9,
   "metadata": {},
   "outputs": [
    {
     "data": {
      "text/plain": [
       "'potato'"
      ]
     },
     "execution_count": 9,
     "metadata": {},
     "output_type": "execute_result"
    }
   ],
   "source": [
    "#The dict function is also a little more flexible in how it can be used.\n",
    "#For example, we can create the same dictionary by passing a list of lists\n",
    "#as an argument, or even a list of tools, a tuple of tuples or a tuple of lists.\n",
    "#They all give us the same result.\n",
    "shamba = dict(\n",
    "    [\n",
    "     ['area_1', 'maize'],\n",
    "     ['area_2', 'potato'],\n",
    "     ['area_3', 'bean'],\n",
    "     ['area_4', 'sukuma'],\n",
    "    ]\n",
    ")\n",
    "\n",
    "shamba['area_2']"
   ]
  },
  {
   "cell_type": "code",
   "execution_count": 10,
   "metadata": {},
   "outputs": [
    {
     "data": {
      "text/plain": [
       "{'area_1': 'maize',\n",
       " 'area_2': 'potato',\n",
       " 'area_3': 'bean',\n",
       " 'area_4': 'sukuma',\n",
       " 'area_5': 'tomato'}"
      ]
     },
     "execution_count": 10,
     "metadata": {},
     "output_type": "execute_result"
    }
   ],
   "source": [
    "#If we want to add a new key-value pair to an existing dictionary, we can assign it as follows.\n",
    "shamba['area_5'] = 'tomato'\n",
    "shamba"
   ]
  },
  {
   "cell_type": "code",
   "execution_count": 11,
   "metadata": {},
   "outputs": [
    {
     "ename": "KeyError",
     "evalue": "2",
     "output_type": "error",
     "traceback": [
      "\u001b[1;31m---------------------------------------------------------------------------\u001b[0m",
      "\u001b[1;31mKeyError\u001b[0m                                  Traceback (most recent call last)",
      "Cell \u001b[1;32mIn[11], line 2\u001b[0m\n\u001b[0;32m      1\u001b[0m \u001b[38;5;66;03m#Dictionaries are unordered.\u001b[39;00m\n\u001b[1;32m----> 2\u001b[0m shamba[\u001b[38;5;241m2\u001b[39m]\n",
      "\u001b[1;31mKeyError\u001b[0m: 2"
     ]
    }
   ],
   "source": [
    "#Dictionaries are unordered.\n",
    "shamba[2]"
   ]
  },
  {
   "cell_type": "code",
   "execution_count": 12,
   "metadata": {},
   "outputs": [
    {
     "name": "stdout",
     "output_type": "stream",
     "text": [
      "True\n",
      "False\n"
     ]
    }
   ],
   "source": [
    "#We can check if a keyword exists in our dictionary simply by using the \"in\" keyword.\n",
    "print('area_1' in shamba)\n",
    "print('area_7' in shamba)"
   ]
  },
  {
   "cell_type": "code",
   "execution_count": 13,
   "metadata": {},
   "outputs": [
    {
     "data": {
      "text/html": [
       "<div>\n",
       "<style scoped>\n",
       "    .dataframe tbody tr th:only-of-type {\n",
       "        vertical-align: middle;\n",
       "    }\n",
       "\n",
       "    .dataframe tbody tr th {\n",
       "        vertical-align: top;\n",
       "    }\n",
       "\n",
       "    .dataframe thead th {\n",
       "        text-align: right;\n",
       "    }\n",
       "</style>\n",
       "<table border=\"1\" class=\"dataframe\">\n",
       "  <thead>\n",
       "    <tr style=\"text-align: right;\">\n",
       "      <th></th>\n",
       "      <th>col1</th>\n",
       "      <th>col2</th>\n",
       "      <th>col3</th>\n",
       "    </tr>\n",
       "  </thead>\n",
       "  <tbody>\n",
       "    <tr>\n",
       "      <th>0</th>\n",
       "      <td>1</td>\n",
       "      <td>3</td>\n",
       "      <td>5</td>\n",
       "    </tr>\n",
       "    <tr>\n",
       "      <th>1</th>\n",
       "      <td>2</td>\n",
       "      <td>4</td>\n",
       "      <td>6</td>\n",
       "    </tr>\n",
       "  </tbody>\n",
       "</table>\n",
       "</div>"
      ],
      "text/plain": [
       "   col1  col2  col3\n",
       "0     1     3     5\n",
       "1     2     4     6"
      ]
     },
     "execution_count": 13,
     "metadata": {},
     "output_type": "execute_result"
    }
   ],
   "source": [
    "#Pandas DataFrame can be created by dictionaries\n",
    "import pandas as pd\n",
    "\n",
    "mydata = {\n",
    "    'col1': [1, 2],\n",
    "    'col2': [3, 4],\n",
    "    'col3': [5, 6],\n",
    "    }\n",
    "df = pd.DataFrame(data=mydata)\n",
    "df"
   ]
  },
  {
   "cell_type": "markdown",
   "metadata": {},
   "source": [
    "## Dictionary Methods"
   ]
  },
  {
   "cell_type": "code",
   "execution_count": 14,
   "metadata": {},
   "outputs": [
    {
     "data": {
      "text/plain": [
       "{'area_1': ['maize', 'tomato'],\n",
       " 'area_2': ['potato', 'pumpkin'],\n",
       " 'area_3': 'bean',\n",
       " 'area_4': ['sukuma', 'spinach', 'cabbage']}"
      ]
     },
     "execution_count": 14,
     "metadata": {},
     "output_type": "execute_result"
    }
   ],
   "source": [
    "shamba = {\n",
    "    'area_1': ['maize', 'tomato'],\n",
    "    'area_2': ['potato', 'pumpkin'],\n",
    "    'area_3': 'bean',\n",
    "    'area_4': ['sukuma', 'spinach', 'cabbage'],\n",
    "    }\n",
    "\n",
    "shamba"
   ]
  },
  {
   "cell_type": "code",
   "execution_count": null,
   "metadata": {},
   "outputs": [],
   "source": [
    "shamba['area_1']"
   ]
  },
  {
   "cell_type": "markdown",
   "metadata": {},
   "source": [
    "**shamba['area_1'] is a list, so the method of list can be applied to.**"
   ]
  },
  {
   "cell_type": "code",
   "execution_count": 15,
   "metadata": {},
   "outputs": [
    {
     "data": {
      "text/plain": [
       "'tomato'"
      ]
     },
     "execution_count": 15,
     "metadata": {},
     "output_type": "execute_result"
    }
   ],
   "source": [
    "# shamba['area_1'] is a list, so the method of list can be applied to. \n",
    "\n",
    "# we can access specific element in the list using index of the list\n",
    "shamba['area_1'][1]"
   ]
  },
  {
   "cell_type": "code",
   "execution_count": 16,
   "metadata": {},
   "outputs": [
    {
     "data": {
      "text/plain": [
       "'cabbage'"
      ]
     },
     "execution_count": 16,
     "metadata": {},
     "output_type": "execute_result"
    }
   ],
   "source": [
    "shamba['area_4'][-1]"
   ]
  },
  {
   "cell_type": "code",
   "execution_count": 17,
   "metadata": {},
   "outputs": [
    {
     "data": {
      "text/plain": [
       "{'area_1': ['tomato'],\n",
       " 'area_2': ['potato', 'pumpkin'],\n",
       " 'area_3': 'bean',\n",
       " 'area_4': ['sukuma', 'spinach', 'cabbage']}"
      ]
     },
     "execution_count": 17,
     "metadata": {},
     "output_type": "execute_result"
    }
   ],
   "source": [
    "# we can remove the element\n",
    "shamba['area_1'].remove('maize')\n",
    "shamba"
   ]
  },
  {
   "cell_type": "code",
   "execution_count": 18,
   "metadata": {},
   "outputs": [
    {
     "data": {
      "text/plain": [
       "{'area_1': ['tomato', 'maize'],\n",
       " 'area_2': ['potato', 'pumpkin'],\n",
       " 'area_3': 'bean',\n",
       " 'area_4': ['sukuma', 'spinach', 'cabbage']}"
      ]
     },
     "execution_count": 18,
     "metadata": {},
     "output_type": "execute_result"
    }
   ],
   "source": [
    "# we can append an element\n",
    "shamba['area_1'].append('maize')\n",
    "shamba"
   ]
  },
  {
   "cell_type": "code",
   "execution_count": 19,
   "metadata": {},
   "outputs": [
    {
     "data": {
      "text/plain": [
       "{'area_1': ['onion', 'maize'],\n",
       " 'area_2': ['potato', 'pumpkin'],\n",
       " 'area_3': 'bean',\n",
       " 'area_4': ['sukuma', 'spinach', 'cabbage']}"
      ]
     },
     "execution_count": 19,
     "metadata": {},
     "output_type": "execute_result"
    }
   ],
   "source": [
    "# we can replace an element by using indexing of the list\n",
    "shamba['area_1'][0] = 'onion'\n",
    "shamba"
   ]
  },
  {
   "cell_type": "code",
   "execution_count": 20,
   "metadata": {},
   "outputs": [
    {
     "data": {
      "text/plain": [
       "{'area_1': ['onion', 'tomato', 'maize'],\n",
       " 'area_2': ['potato', 'pumpkin'],\n",
       " 'area_3': 'bean',\n",
       " 'area_4': ['sukuma', 'spinach', 'cabbage']}"
      ]
     },
     "execution_count": 20,
     "metadata": {},
     "output_type": "execute_result"
    }
   ],
   "source": [
    "# we can insert an element by using insert method of the list\n",
    "shamba['area_1'].insert(1, 'tomato')\n",
    "shamba"
   ]
  },
  {
   "cell_type": "code",
   "execution_count": 21,
   "metadata": {},
   "outputs": [
    {
     "data": {
      "text/plain": [
       "['onion', 'tomato', 'maize']"
      ]
     },
     "execution_count": 21,
     "metadata": {},
     "output_type": "execute_result"
    }
   ],
   "source": [
    "# dictionary.get() : returns the value of the specified key\n",
    "shamba.get('area_1')"
   ]
  },
  {
   "cell_type": "code",
   "execution_count": 22,
   "metadata": {},
   "outputs": [
    {
     "data": {
      "text/plain": [
       "dict_keys(['area_1', 'area_2', 'area_3', 'area_4'])"
      ]
     },
     "execution_count": 22,
     "metadata": {},
     "output_type": "execute_result"
    }
   ],
   "source": [
    "# dictionary.keys() : returns a list containing the keys\n",
    "shamba.keys()"
   ]
  },
  {
   "cell_type": "code",
   "execution_count": 23,
   "metadata": {},
   "outputs": [
    {
     "data": {
      "text/plain": [
       "dict_values([['onion', 'tomato', 'maize'], ['potato', 'pumpkin'], 'bean', ['sukuma', 'spinach', 'cabbage']])"
      ]
     },
     "execution_count": 23,
     "metadata": {},
     "output_type": "execute_result"
    }
   ],
   "source": [
    "# dictionary.values() : returns a list of all the values in the dictionary\n",
    "shamba.values()"
   ]
  },
  {
   "cell_type": "code",
   "execution_count": 24,
   "metadata": {},
   "outputs": [
    {
     "data": {
      "text/plain": [
       "dict_items([('area_1', ['onion', 'tomato', 'maize']), ('area_2', ['potato', 'pumpkin']), ('area_3', 'bean'), ('area_4', ['sukuma', 'spinach', 'cabbage'])])"
      ]
     },
     "execution_count": 24,
     "metadata": {},
     "output_type": "execute_result"
    }
   ],
   "source": [
    "# dictionary.items() : returns a list containing a tuple for each key value pair\n",
    "shamba.items()"
   ]
  },
  {
   "cell_type": "code",
   "execution_count": 25,
   "metadata": {},
   "outputs": [
    {
     "data": {
      "text/plain": [
       "{'area_1': ['onion', 'tomato', 'maize'],\n",
       " 'area_3': 'bean',\n",
       " 'area_4': ['sukuma', 'spinach', 'cabbage']}"
      ]
     },
     "execution_count": 25,
     "metadata": {},
     "output_type": "execute_result"
    }
   ],
   "source": [
    "# dictionary.pop() : removes the element with the specified key\n",
    "shamba.pop('area_2')\n",
    "shamba"
   ]
  },
  {
   "cell_type": "code",
   "execution_count": 26,
   "metadata": {},
   "outputs": [
    {
     "data": {
      "text/plain": [
       "{}"
      ]
     },
     "execution_count": 26,
     "metadata": {},
     "output_type": "execute_result"
    }
   ],
   "source": [
    "# dictionary.clear() : removes all elements\n",
    "shamba.clear()\n",
    "shamba"
   ]
  },
  {
   "cell_type": "code",
   "execution_count": 27,
   "metadata": {},
   "outputs": [
    {
     "data": {
      "text/plain": [
       "{'area_3': ['bean', 'greengram']}"
      ]
     },
     "execution_count": 27,
     "metadata": {},
     "output_type": "execute_result"
    }
   ],
   "source": [
    "# dictionary.update() : updates the dictionary with the specified key-value pairs\n",
    "# if we use the existing key as an argumenr, the existing values of the key is updated.\n",
    "shamba.update({'area_3': ['bean', 'greengram']})\n",
    "shamba"
   ]
  },
  {
   "cell_type": "code",
   "execution_count": 28,
   "metadata": {},
   "outputs": [
    {
     "data": {
      "text/plain": [
       "{'area_3': ['bean', 'greengram'], 'area_5': ['banana', 'mango', 'avocado']}"
      ]
     },
     "execution_count": 28,
     "metadata": {},
     "output_type": "execute_result"
    }
   ],
   "source": [
    "# if we use the unexisting key as an argumenr, the values and the new key are added.\n",
    "shamba.update({'area_5': ['banana', 'mango', 'avocado']})\n",
    "shamba"
   ]
  },
  {
   "cell_type": "markdown",
   "metadata": {},
   "source": [
    "## Dictionary Quiz\n",
    "### <span style=\"color:red\">**Let’s think about storing football players’ record again!**</span>"
   ]
  },
  {
   "cell_type": "code",
   "execution_count": null,
   "metadata": {},
   "outputs": [],
   "source": [
    "# Here is the list of Manchester United team starting members.\n",
    "# 1. Andre Onana (Goalkeeper) - Age: 28\n",
    "# 2. Aaron Wan-Bissaka (Back) - Age: 26\n",
    "# 3. Raphael Varane (Back) - Age: 31\n",
    "# 4. Lisandro Martinez (Back) - Age: 26\n",
    "# 5. Diogo Dalot (Back) - Age: 25\n",
    "# 6. Kobbie Mainoo (Midfielder) - Age: 19\n",
    "# 7. Sofyan Amrabat (Midfielder) - Age: 27\n",
    "# 8. Scott McTominay (Midfielder) - Age: 27\n",
    "# 9. Alejandro Garnacho (Forward) - Age: 18\n",
    "#10. Bruno Fernandes (Midfielder) - Age: 29\n",
    "#11. Marcus Rashford (Forward) - Age: 26"
   ]
  },
  {
   "cell_type": "code",
   "execution_count": 42,
   "metadata": {},
   "outputs": [],
   "source": [
    "man_u_start_mem_by_position = {\n",
    "    'goalkeeper': [('Andre', 28)],\n",
    "    'back' : [('Aaron', 26), ('Raphael', 31), ('Diogo', 25)],\n",
    "    'midfielder' : [('Kobbie', 21), ('Sofyan', 27), ('Scott', 27), ('Bruno', 29)],\n",
    "    'forward' : [('Alejandro', 18), ('Lisandro', 26), ('Marcus', 26)],\n",
    "    }"
   ]
  },
  {
   "cell_type": "markdown",
   "metadata": {},
   "source": [
    "**Q1. Lisandro's position is back, so remove ('Lisandro', 26) from the list of the key 'forward'.**"
   ]
  },
  {
   "cell_type": "code",
   "execution_count": 43,
   "metadata": {},
   "outputs": [
    {
     "data": {
      "text/plain": [
       "{'goalkeeper': [('Andre', 28)],\n",
       " 'back': [('Aaron', 26), ('Raphael', 31), ('Diogo', 25)],\n",
       " 'midfielder': [('Kobbie', 21), ('Sofyan', 27), ('Scott', 27), ('Bruno', 29)],\n",
       " 'forward': [('Alejandro', 18), ('Marcus', 26)]}"
      ]
     },
     "execution_count": 43,
     "metadata": {},
     "output_type": "execute_result"
    }
   ],
   "source": [
    "man_u_start_mem_by_position.get(\"forward\").remove(('Lisandro', 26))\n",
    "man_u_start_mem_by_position"
   ]
  },
  {
   "cell_type": "markdown",
   "metadata": {},
   "source": [
    "**Q2. Then add ('Lisandro', 26) as 3rd element of the list of the key 'back'.**"
   ]
  },
  {
   "cell_type": "code",
   "execution_count": 45,
   "metadata": {},
   "outputs": [
    {
     "data": {
      "text/plain": [
       "{'goalkeeper': [('Andre', 28)],\n",
       " 'back': [('Aaron', 26),\n",
       "  ('Raphael', 31),\n",
       "  ('Lisandro', 26),\n",
       "  ('Diogo', 25),\n",
       "  ('Lisandro', 26)],\n",
       " 'midfielder': [('Kobbie', 21), ('Sofyan', 27), ('Scott', 27), ('Bruno', 29)],\n",
       " 'forward': [('Alejandro', 18), ('Marcus', 26)]}"
      ]
     },
     "execution_count": 45,
     "metadata": {},
     "output_type": "execute_result"
    }
   ],
   "source": [
    "man_u_start_mem_by_position.get('back').insert(2, ('Lisandro', 26))\n",
    "man_u_start_mem_by_position"
   ]
  },
  {
   "cell_type": "markdown",
   "metadata": {},
   "source": [
    "**Q3. Kobbie's age is not 21, but 19. Replace the element accordingly.**  \n",
    "**(Remember that elements of a tuple is immutable, so we need to replace the whole tuple.)**"
   ]
  },
  {
   "cell_type": "code",
   "execution_count": 48,
   "metadata": {},
   "outputs": [
    {
     "data": {
      "text/plain": [
       "{'goalkeeper': [('Andre', 28)],\n",
       " 'back': [('Aaron', 26),\n",
       "  ('Raphael', 31),\n",
       "  ('Lisandro', 26),\n",
       "  ('Diogo', 25),\n",
       "  ('Lisandro', 26)],\n",
       " 'midfielder': [('Kobbie', 19), ('Sofyan', 27), ('Scott', 27), ('Bruno', 29)],\n",
       " 'forward': [('Alejandro', 18), ('Marcus', 26)]}"
      ]
     },
     "execution_count": 48,
     "metadata": {},
     "output_type": "execute_result"
    }
   ],
   "source": [
    "man_u_start_mem_by_position.get('midfielder')[0] = ('Kobbie', 19)\n",
    "man_u_start_mem_by_position"
   ]
  },
  {
   "cell_type": "markdown",
   "metadata": {},
   "source": [
    "**Q4. Now we have a list of tuples. Each tuple consists of 3 elements:**  \n",
    "**a player's name, age, and position. Create a new dictionary taking**  \n",
    "**positions as keys and tuples with name and age as an element of list**  \n",
    "**for each key by using 'for loop' and 'conditional logic.'**  "
   ]
  },
  {
   "cell_type": "code",
   "execution_count": 50,
   "metadata": {},
   "outputs": [],
   "source": [
    "man_u_team = [\n",
    "    ('Andre', 28, 'goalkeeper'),\n",
    "    ('Aaron', 26, 'back'),\n",
    "    ('Raphael', 31, 'back'),\n",
    "    ('Lisandro', 26, 'back'),\n",
    "    ('Diogo', 25, 'back'),\n",
    "    ('Kobbie', 19, 'midfielder'),\n",
    "    ('Sofyan', 27, 'midfielder'),\n",
    "    ('Scott', 27, 'midfielder'),\n",
    "    ('Alejandro', 18, 'forward'),\n",
    "    ('Bruno', 29, 'midfielder'),\n",
    "    ('Marcus', 26, 'forward'),\n",
    "    ]"
   ]
  },
  {
   "cell_type": "code",
   "execution_count": 51,
   "metadata": {},
   "outputs": [
    {
     "data": {
      "text/plain": [
       "{'goalkeeper': [('Andre', 28)],\n",
       " 'back': [('Aaron', 26), ('Raphael', 31), ('Lisandro', 26), ('Diogo', 25)],\n",
       " 'midfielder': [('Kobbie', 19), ('Sofyan', 27), ('Scott', 27), ('Bruno', 29)],\n",
       " 'forward': [('Alejandro', 18), ('Marcus', 26)]}"
      ]
     },
     "execution_count": 51,
     "metadata": {},
     "output_type": "execute_result"
    }
   ],
   "source": [
    "new_dictionary = {}\n",
    "for name, age, position in man_u_team:\n",
    "    if position in new_dictionary:\n",
    "        new_dictionary[position].append((name, age))\n",
    "    else:\n",
    "        new_dictionary[position] = [(name, age)]\n",
    "\n",
    "new_dictionary"
   ]
  },
  {
   "cell_type": "code",
   "execution_count": null,
   "metadata": {},
   "outputs": [],
   "source": []
  }
 ],
 "metadata": {
  "kernelspec": {
   "display_name": "Python 3 (ipykernel)",
   "language": "python",
   "name": "python3"
  },
  "language_info": {
   "codemirror_mode": {
    "name": "ipython",
    "version": 3
   },
   "file_extension": ".py",
   "mimetype": "text/x-python",
   "name": "python",
   "nbconvert_exporter": "python",
   "pygments_lexer": "ipython3",
   "version": "3.12.4"
  }
 },
 "nbformat": 4,
 "nbformat_minor": 4
}
