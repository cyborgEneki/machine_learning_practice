{
 "cells": [
  {
   "cell_type": "code",
   "execution_count": 19,
   "id": "3cbb5b07-2d7b-4c16-b7b7-ef6d4a653486",
   "metadata": {},
   "outputs": [
    {
     "name": "stdout",
     "output_type": "stream",
     "text": [
      "{'apple'}\n",
      "{'banana', 'apple', 'cherry', 'microsoft', 'google'}\n",
      "{'cherry', 'banana'}\n",
      "{'microsoft', 'google'}\n",
      "{'cherry', 'microsoft', 'banana', 'google'}\n"
     ]
    }
   ],
   "source": [
    "x = {\"apple\", \"banana\", \"cherry\"}\n",
    "y = {\"google\", \"microsoft\", \"apple\"}\n",
    "\n",
    "print(x&y) # x.intersection(y)\n",
    "print(x|y) # x.union(y)\n",
    "print(x-y) # x.difference(y)\n",
    "print(y-x) # y.difference(x)\n",
    "print(x^y) # x.symmetric_difference(y)"
   ]
  },
  {
   "cell_type": "code",
   "execution_count": 20,
   "id": "1ea58026-5d4c-421d-907b-6f47caf67bec",
   "metadata": {},
   "outputs": [
    {
     "data": {
      "text/plain": [
       "True"
      ]
     },
     "execution_count": 20,
     "metadata": {},
     "output_type": "execute_result"
    }
   ],
   "source": [
    "x = {\"a\", \"b\", \"c\"}\n",
    "y = {\"c\", \"d\", \"e\"}\n",
    "z = {\"b\", \"c\", \"f\"}\n",
    "\n",
    "x&y&z # x.intersection(y, z)\n",
    "x^y^z==x^z^y"
   ]
  },
  {
   "cell_type": "markdown",
   "id": "4a96688b-bd30-4e91-91bf-90129e1c01c0",
   "metadata": {},
   "source": [
    "**Task**\n",
    "The students of District College have subscriptions to English and French newspapers. \n",
    "Some students have subscribed only to English, some have subscribed to only French \n",
    "and some have subscribed to both newspapers.\n",
    "\n",
    "You are given two sets of student roll numbers. One set has subscribed to the English \n",
    "newspaper, and the other set is subscribed to the French newspaper. The same student \n",
    "could be in both sets. Your task is to find the total number of students who have \n",
    "subscribed to at least one newspaper.\n",
    "\n",
    "**Input Format**\n",
    "The first line contains an integer, ***n***, the number of students who have subscribed to the English newspaper.\n",
    "The second line contains ***n*** space separated roll numbers of those students.\n",
    "The third line contains ***b***, the number of students who have subscribed to the French newspaper.\n",
    "The fourth line contains ***b*** space separated roll numbers of those students.\n",
    "\n",
    "**Constraints**\n",
    "***0 < Total number of students in college < 1000***\n",
    "\n",
    "**Output Format**\n",
    "Output the total number of students who have at least one subscription.\n",
    "\n",
    "**Sample Input**\n",
    "9\n",
    "1 2 3 4 5 6 7 8 9\n",
    "9\n",
    "10 1 2 3 11 21 55 6 8\n",
    "\n",
    "**Sample Output**\n",
    "13"
   ]
  },
  {
   "cell_type": "code",
   "execution_count": 22,
   "id": "d3c856ce-3892-4de5-ba72-91b2de8b387d",
   "metadata": {},
   "outputs": [
    {
     "name": "stdin",
     "output_type": "stream",
     "text": [
      " 9\n",
      " 1 2 3 4 5 6 7 8 9\n",
      " 9\n",
      " 10 1 2 3 11 21 55 6 8\n"
     ]
    },
    {
     "name": "stdout",
     "output_type": "stream",
     "text": [
      "13\n"
     ]
    }
   ],
   "source": [
    "number_of_english_students = input()\n",
    "roll_numbers_of_english_students = input()\n",
    "number_of_french_students = input()\n",
    "roll_numbers_of_french_students = input()\n",
    "\n",
    "set_english = set(roll_numbers_of_english_students.split(' '))\n",
    "set_french = set(roll_numbers_of_french_students.split(' '))\n",
    "\n",
    "english_union_french = set_english | set_french\n",
    "\n",
    "print(len(english_union_french))"
   ]
  },
  {
   "cell_type": "markdown",
   "id": "71913489-f119-49bc-8a8e-477ce19d5195",
   "metadata": {},
   "source": [
    "**Task**\n",
    "The students of District College have subscriptions to English and French newspapers. \n",
    "Some students have subscribed only to English, some have subscribed to only French \n",
    "and some have subscribed to both newspapers.\n",
    "\n",
    "You are given two sets of student roll numbers. One set has subscribed to the English \n",
    "newspaper, and one set has subscribed to the French newspaper. Your task is to find \n",
    "the total number of students who have subscribed to either the English or the French \n",
    "newspaper but not both.\n",
    "\n",
    "**Input Format**\n",
    "The first line contains an integer, ***n***, the number of students who have subscribed to the English newspaper.\n",
    "The second line contains ***n*** space separated roll numbers of those students.\n",
    "The third line contains ***b***, the number of students who have subscribed to the French newspaper.\n",
    "The fourth line contains ***b*** space separated roll numbers of those students.\n",
    "\n",
    "**Constraints**\n",
    "***0 < Total number of students in college < 1000***\n",
    "\n",
    "**Output Format**\n",
    "Output total number of students who have subscriptions to the English or the French \n",
    "newspaper but not both.\n",
    "\n",
    "**Sample Input**\n",
    "\r\n",
    "9\r\n",
    "1 2 3 4 5 6 7 8 9\r\n",
    "9\r\n",
    "10 1 2 3 11 21 55\n",
    "** 6 8\r\n",
    "Sample **utput\r\n",
    "\r\n",
    "8"
   ]
  },
  {
   "cell_type": "code",
   "execution_count": 23,
   "id": "e6eac37d-cb37-48b8-8610-a6c87d9b17fb",
   "metadata": {},
   "outputs": [
    {
     "name": "stdin",
     "output_type": "stream",
     "text": [
      " 9\n",
      " 1 2 3 4 5 6 7 8 9\n",
      " 9\n",
      " 10 1 2 3 11 21 55 6 8\n"
     ]
    },
    {
     "name": "stdout",
     "output_type": "stream",
     "text": [
      "8\n"
     ]
    }
   ],
   "source": [
    "number_of_english_students = input()\n",
    "roll_numbers_of_english_students = input()\n",
    "number_of_french_students = input()\n",
    "roll_numbers_of_french_students = input()\n",
    "\n",
    "english = set(roll_numbers_of_english_students.split())\n",
    "french = set(roll_numbers_of_french_students.split())\n",
    "\n",
    "english_symmetric_difference_french = english ^ french \n",
    "print(len(english_symmetric_difference_french))"
   ]
  },
  {
   "cell_type": "markdown",
   "id": "89a8ddbb-7e4b-4476-90f2-5aba4c042fca",
   "metadata": {},
   "source": [
    "**Task**\n",
    "Apply your knowledge of the .add() operation to help your friend Rupal.\n",
    "\n",
    "Rupal has a huge collection of country stamps. She decided to count the total number \n",
    "of distinct country stamps in her collection. She asked for your help. You pick the \n",
    "stamps one by one from a stack of ***N*** country stamps.\n",
    "\n",
    "Find the total number of distinct country stamps.\n",
    "\n",
    "**Input Format**\n",
    "The first line contains an integer ***N***, the total number of country stamps.\n",
    "The next ***N*** lines contains the name of the country where the stamp is from.\n",
    "\n",
    "**Constraints**\n",
    "***0 < N < 1000***\n",
    "\n",
    "**Output Format**\n",
    "Output the total number of distinct country stamps on a single line.\n",
    "\n",
    "**Sample Input**\n",
    "\r\n",
    "7\r\n",
    "UK\r\n",
    "China\r\n",
    "USA\r\n",
    "France\r\n",
    "New Zealand\r\n",
    "UK\r\n",
    "**\n",
    "France \r\n",
    "Sam**le Output\r\n",
    "\r\n",
    "5 Output\r\n",
    "\r\n",
    "5"
   ]
  },
  {
   "cell_type": "code",
   "execution_count": 18,
   "id": "fb8b64a2-7c35-41ee-877d-9d3670afd3a4",
   "metadata": {},
   "outputs": [
    {
     "name": "stdin",
     "output_type": "stream",
     "text": [
      " 7\n",
      " UK\n",
      " China\n",
      " USA\n",
      " France\n",
      " New Zealand\n",
      " UK\n",
      " France\n"
     ]
    },
    {
     "name": "stdout",
     "output_type": "stream",
     "text": [
      "5\n"
     ]
    }
   ],
   "source": [
    "total_stamps = int(input())\n",
    "s = set()\n",
    "\n",
    "for item in range(total_stamps):\n",
    "    s.add(input())\n",
    "\n",
    "print(len(s))"
   ]
  },
  {
   "cell_type": "markdown",
   "id": "5c9c0108-9df7-42bf-a5bc-bd66ac5219f3",
   "metadata": {},
   "source": [
    "You are given two sets, ***A*** and ***B***.\n",
    "Your job is to find whether set ***A*** is a subset of set ***B***.\n",
    "\n",
    "If set ***A*** is subset of set ***B***, print ***True***.\n",
    "If set ***A*** is not a subset of set ***B***, print ***False***.\n",
    "\n",
    "**Input Format**\n",
    "The first line will contain the number of test cases, ***T***.\n",
    "The first line of each test case contains the number of elements in set ***A***.\n",
    "The second line of each test case contains the space separated elements of set ***A***.\n",
    "The third line of each test case contains the number of elements in set ***B***.\n",
    "The fourth line of each test case contains the space separated elements of set ***B***.\n",
    "\n",
    "**Constraints**\n",
    "- ***0 < T < 21***\n",
    "- ***0 < Number of elements in each set < 1001***\n",
    "\n",
    "**Output Format**\n",
    "Output ***True*** or ***False*** for each test case on separate lines.\n",
    "\n",
    "**Sample Input**\n",
    "3\n",
    "5\n",
    "1 2 3 5 6\n",
    "9\n",
    "9 8 5 6 3 2 1 4 7\n",
    "1\n",
    "2\n",
    "5\n",
    "3 6 5 4 1\n",
    "7\n",
    "1 2 3 5 6 8 9\n",
    "3\n",
    "9 8 2\n",
    "\n",
    "**Sample Output**\n",
    "True \n",
    "False\n",
    "False"
   ]
  },
  {
   "cell_type": "code",
   "execution_count": 25,
   "id": "4173d54d-ecb9-42af-937b-039f06ca23e2",
   "metadata": {},
   "outputs": [
    {
     "name": "stdin",
     "output_type": "stream",
     "text": [
      " 3\n",
      " 5\n",
      " 1 2 3 5 6\n",
      " 9\n",
      " 9 8 5 6 3 2 1 4 7\n"
     ]
    },
    {
     "name": "stdout",
     "output_type": "stream",
     "text": [
      "True\n"
     ]
    },
    {
     "name": "stdin",
     "output_type": "stream",
     "text": [
      " 1\n",
      " 2\n",
      " 5\n",
      " 3 6 5 4 1\n"
     ]
    },
    {
     "name": "stdout",
     "output_type": "stream",
     "text": [
      "False\n"
     ]
    },
    {
     "name": "stdin",
     "output_type": "stream",
     "text": [
      " 7\n",
      " 1 2 3 5 6 8 9\n",
      " 3\n",
      " 9 8 2\n"
     ]
    },
    {
     "name": "stdout",
     "output_type": "stream",
     "text": [
      "False\n"
     ]
    }
   ],
   "source": [
    "total_test_cases = int(input())\n",
    "\n",
    "for item in range(total_test_cases):\n",
    "    count_set_a = input()\n",
    "    set_a = set(input().split())\n",
    "    count_set_b = input()\n",
    "    set_b = set(input().split())\n",
    "\n",
    "    print(set_a <= set_b)"
   ]
  },
  {
   "cell_type": "code",
   "execution_count": null,
   "id": "af188e86-e4ef-4d0b-a495-2581bb81795d",
   "metadata": {},
   "outputs": [],
   "source": []
  }
 ],
 "metadata": {
  "kernelspec": {
   "display_name": "Python 3 (ipykernel)",
   "language": "python",
   "name": "python3"
  },
  "language_info": {
   "codemirror_mode": {
    "name": "ipython",
    "version": 3
   },
   "file_extension": ".py",
   "mimetype": "text/x-python",
   "name": "python",
   "nbconvert_exporter": "python",
   "pygments_lexer": "ipython3",
   "version": "3.12.4"
  }
 },
 "nbformat": 4,
 "nbformat_minor": 5
}
