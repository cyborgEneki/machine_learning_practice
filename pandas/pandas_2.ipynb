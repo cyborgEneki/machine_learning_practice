{
 "cells": [
  {
   "cell_type": "markdown",
   "metadata": {},
   "source": [
    "### df.groupby()"
   ]
  },
  {
   "cell_type": "code",
   "execution_count": null,
   "metadata": {},
   "outputs": [],
   "source": [
    "# groupby() works by splitting data into groups based on specified criteria,\n",
    "# applying a function to each group independently, then combining the results into \n",
    "# a data structure.\n",
    "# https://pandas.pydata.org/docs/reference/api/pandas.DataFrame.groupby.html\n",
    "\n",
    "import pandas as pd\n",
    "clothes = pd.DataFrame({'type': ['pants', 'shirt', 'shirt', 'pants', 'shirt', 'pants'],\n",
    "                       'color': ['red', 'blue', 'green', 'blue', 'green', 'red'],\n",
    "                       'price_usd': [20, 35, 50, 40, 100, 75],\n",
    "                       'mass_g': [125, 440, 680, 200, 395, 485]})\n",
    "\n",
    "clothes"
   ]
  },
  {
   "cell_type": "code",
   "execution_count": null,
   "metadata": {},
   "outputs": [],
   "source": [
    "clothes.value_counts('type')"
   ]
  },
  {
   "cell_type": "code",
   "execution_count": null,
   "metadata": {},
   "outputs": [],
   "source": [
    "# grouping the dataframe by type results in a DataFrameGroupBy object\n",
    "grouped = clothes.groupby('type')\n",
    "grouped"
   ]
  },
  {
   "cell_type": "code",
   "execution_count": null,
   "metadata": {},
   "outputs": [],
   "source": [
    "grouped.mean(numeric_only=True)"
   ]
  },
  {
   "cell_type": "code",
   "execution_count": null,
   "metadata": {},
   "outputs": [],
   "source": [
    "# In addition, groups may be created based on multiple columns.\n",
    "clothes.groupby(['type', 'color']).min()"
   ]
  },
  {
   "cell_type": "code",
   "execution_count": null,
   "metadata": {},
   "outputs": [],
   "source": [
    "# to simply return the number of observations there are in each group, use the size() method.\n",
    "clothes.groupby(['type', 'color']).size()"
   ]
  },
  {
   "cell_type": "code",
   "execution_count": null,
   "metadata": {},
   "outputs": [],
   "source": [
    "# There are many available built-in aggregation functions.\n",
    "# count(): The number of non-null values in each group\n",
    "# sum(): The sum of values in each group\n",
    "# mean(): The mean of values in each group\n",
    "# median(): The median of values in each group\n",
    "# min(): The minimum value in each group\n",
    "# max(): The maximum value in each group\n",
    "# std(): The standard deviation of values in each group\n",
    "# var(): The variance of values in each group"
   ]
  },
  {
   "cell_type": "markdown",
   "metadata": {},
   "source": [
    "### df.agg()"
   ]
  },
  {
   "cell_type": "code",
   "execution_count": null,
   "metadata": {},
   "outputs": [],
   "source": [
    "# agg() applies multiple functions to a dataframe at the same time.\n",
    "# https://pandas.pydata.org/docs/reference/api/pandas.DataFrame.agg.html\n",
    "\n",
    "clothes2 = pd.DataFrame({'type': ['pants', 'shirt', 'shirt', 'pants', 'shirt', 'pants'],\n",
    "                       'color': ['red', 'blue', 'green', 'blue', 'green', 'red'],\n",
    "                       'price1_usd': [20, 35, 50, 40, 100, 75],\n",
    "                       'price2_usd': [10, 30, 45, 35, 80, 70],\n",
    "                       'mass1_g': [125, 440, 680, 200, 395, 485],\n",
    "                       'mass2_g': [130, 450, 700, 300, 400, 500]})\n",
    "\n",
    "clothes2"
   ]
  },
  {
   "cell_type": "code",
   "execution_count": null,
   "metadata": {},
   "outputs": [],
   "source": [
    "# apply sum() and mean() functions to the 'price1_usd' and 'mass1_g' columns\n",
    "clothes2[['price1_usd', 'mass1_g']].agg(['sum', 'mean'])"
   ]
  },
  {
   "cell_type": "code",
   "execution_count": null,
   "metadata": {},
   "outputs": [],
   "source": [
    "# different functions can be applied to different columns\n",
    "# argument to the agg() function is a dictionary whose keys are columns and \n",
    "# whose values are the functions to be applied to those columns.\n",
    "clothes2.agg({'price1_usd': ['mean', 'median'],\n",
    "            'mass1_g': 'sum'\n",
    "            })"
   ]
  },
  {
   "cell_type": "code",
   "execution_count": null,
   "metadata": {},
   "outputs": [],
   "source": [
    "# The following example applies the sum() and mean() functions \n",
    "# across axis 1. In other words, instead of applying the functions \n",
    "# down each column, they’re applied over each row.\n",
    "\n",
    "clothes2[['price1_usd', 'price2_usd']].agg(['sum', 'mean'], axis=1)"
   ]
  },
  {
   "cell_type": "code",
   "execution_count": null,
   "metadata": {},
   "outputs": [],
   "source": [
    "clothes2[['mass1_g', 'mass2_g']].agg(['sum', 'mean'], axis=1)"
   ]
  },
  {
   "cell_type": "markdown",
   "metadata": {},
   "source": [
    "### groupby() with agg()"
   ]
  },
  {
   "cell_type": "code",
   "execution_count": null,
   "metadata": {},
   "outputs": [],
   "source": [
    "# groupby() and agg() functions are often used together.\n",
    "clothes"
   ]
  },
  {
   "cell_type": "code",
   "execution_count": null,
   "metadata": {},
   "outputs": [],
   "source": [
    "#The items in clothes are grouped by color, \n",
    "# then each of those groups has the mean() and max() functions \n",
    "# applied to them at the price_usd and mass_g columns.\n",
    "\n",
    "clothes.groupby('color').agg({'price_usd': ['mean', 'max'],\n",
    "                             'mass_g': ['mean', 'max']})"
   ]
  },
  {
   "cell_type": "markdown",
   "metadata": {},
   "source": [
    "### MultiIndex"
   ]
  },
  {
   "cell_type": "code",
   "execution_count": null,
   "metadata": {},
   "outputs": [],
   "source": [
    "grouped = clothes.groupby(['color', 'type']).agg(['mean', 'min'])\n",
    "grouped"
   ]
  },
  {
   "cell_type": "code",
   "execution_count": null,
   "metadata": {},
   "outputs": [],
   "source": [
    "# If you inspect row index, you get a MultiIndex object\n",
    "grouped.index"
   ]
  },
  {
   "cell_type": "code",
   "execution_count": null,
   "metadata": {},
   "outputs": [],
   "source": [
    "# The column index shows a MultiIndex object\n",
    "grouped.columns"
   ]
  },
  {
   "cell_type": "code",
   "execution_count": null,
   "metadata": {},
   "outputs": [],
   "source": [
    "# To perform selection on a dataframe with a MultiIndex, use loc[]\n",
    "# and put indices in parentheses.\n",
    "\n",
    "# To select a first-level (top) column:\n",
    "grouped.loc[:, 'price_usd']"
   ]
  },
  {
   "cell_type": "code",
   "execution_count": null,
   "metadata": {},
   "outputs": [],
   "source": [
    "# To select a second-level (bottom) column:\n",
    "grouped.loc[:, ('price_usd', 'min')]"
   ]
  },
  {
   "cell_type": "code",
   "execution_count": null,
   "metadata": {},
   "outputs": [],
   "source": [
    "# To select first-level (left-most) row:\n",
    "grouped.loc['blue', :]"
   ]
  },
  {
   "cell_type": "code",
   "execution_count": null,
   "metadata": {},
   "outputs": [],
   "source": [
    "# To select a bottom-level (right-most) row:\n",
    "grouped.loc[('green', 'shirt'), :]"
   ]
  },
  {
   "cell_type": "code",
   "execution_count": null,
   "metadata": {},
   "outputs": [],
   "source": [
    "# You can also select individual values:\n",
    "grouped.loc[('blue', 'shirt'), ('mass_g', 'mean')]"
   ]
  },
  {
   "cell_type": "code",
   "execution_count": null,
   "metadata": {},
   "outputs": [],
   "source": [
    "clothes.groupby(['color', 'type'], as_index=False).mean()"
   ]
  },
  {
   "cell_type": "code",
   "execution_count": null,
   "metadata": {},
   "outputs": [],
   "source": [
    "grouped2 = clothes.groupby(['color', 'type']).mean()\n",
    "grouped2"
   ]
  },
  {
   "cell_type": "code",
   "execution_count": null,
   "metadata": {},
   "outputs": [],
   "source": []
  }
 ],
 "metadata": {
  "kernelspec": {
   "display_name": "Python 3 (ipykernel)",
   "language": "python",
   "name": "python3"
  },
  "language_info": {
   "codemirror_mode": {
    "name": "ipython",
    "version": 3
   },
   "file_extension": ".py",
   "mimetype": "text/x-python",
   "name": "python",
   "nbconvert_exporter": "python",
   "pygments_lexer": "ipython3",
   "version": "3.12.4"
  }
 },
 "nbformat": 4,
 "nbformat_minor": 4
}
